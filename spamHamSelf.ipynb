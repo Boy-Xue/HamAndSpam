{
 "cells": [
  {
   "cell_type": "markdown",
   "metadata": {
    "_uuid": "30e0db8f0d6e32603bf6a2eb4ae3186a36da2704"
   },
   "source": [
    "# 垃圾邮件分类\n",
    "https://www.kaggle.com/uciml/sms-spam-collection-dataset"
   ]
  },
  {
   "cell_type": "markdown",
   "metadata": {
    "_cell_guid": "d6b1ab40-34da-4645-98c4-4b61c97895f6",
    "_uuid": "0259bd59e4fad41ffd78aa5a510a83ef07daab7f",
    "collapsed": true
   },
   "source": [
    "拿到数据首先读入拿到数据"
   ]
  },
  {
   "cell_type": "code",
   "execution_count": 1,
   "metadata": {
    "_cell_guid": "a89760f4-9075-42be-b4c4-c8c87d175c88",
    "_uuid": "4429a082ddabcb23261daec29ee1ae9e68ba2a2e"
   },
   "outputs": [
    {
     "name": "stdout",
     "output_type": "stream",
     "text": [
      "看看数据长什么样子\n",
      "     v1                                                 v2 Unnamed: 2  \\\n",
      "0   ham  Go until jurong point, crazy.. Available only ...        NaN   \n",
      "1   ham                      Ok lar... Joking wif u oni...        NaN   \n",
      "2  spam  Free entry in 2 a wkly comp to win FA Cup fina...        NaN   \n",
      "3   ham  U dun say so early hor... U c already then say...        NaN   \n",
      "4   ham  Nah I don't think he goes to usf, he lives aro...        NaN   \n",
      "\n",
      "  Unnamed: 3 Unnamed: 4  \n",
      "0        NaN        NaN  \n",
      "1        NaN        NaN  \n",
      "2        NaN        NaN  \n",
      "3        NaN        NaN  \n",
      "4        NaN        NaN  \n",
      "拆分过后的每个邮件内容\n",
      "1114    No no:)this is kallis home ground.amla home to...\n",
      "3589    I am in escape theatre now. . Going to watch K...\n",
      "3095    We walked from my moms. Right on stagwood pass...\n",
      "1012       I dunno they close oredi not... ÌÏ v ma fan...\n",
      "3320                               Yo im right by yo work\n",
      "4130    \\Its Ur luck to Love someone. Its Ur fortune t...\n",
      "1197     He also knows about lunch menu only da. . I know\n",
      "5426        Oh yeah! And my diet just flew out the window\n",
      "624     Nah it's straight, if you can just bring bud o...\n",
      "2260    SplashMobile: Choose from 1000s of gr8 tones e...\n",
      "Name: v2, dtype: object\n",
      "拆分过后每个邮件是否是垃圾邮件\n",
      "1114     ham\n",
      "3589     ham\n",
      "3095     ham\n",
      "1012     ham\n",
      "3320     ham\n",
      "4130     ham\n",
      "1197     ham\n",
      "5426     ham\n",
      "624      ham\n",
      "2260    spam\n",
      "Name: v1, dtype: object\n"
     ]
    }
   ],
   "source": [
    "from sklearn.feature_extraction.text import CountVectorizer\n",
    "from sklearn.model_selection import train_test_split\n",
    "import pandas as pd\n",
    "import numpy as np\n",
    "\n",
    "df = pd.read_csv('spam.csv', encoding='latin-1')\n",
    "print ('看看数据长什么样子')\n",
    "print (df.head())\n",
    "\n",
    "# split into train and test\n",
    "data_train, data_test, labels_train, labels_test = train_test_split(\n",
    "    df.v2,\n",
    "    df.v1, \n",
    "    test_size=0.2, \n",
    "    random_state=0)  \n",
    "\n",
    "print ('拆分过后的每个邮件内容')\n",
    "print (data_train[:10]) \n",
    "print ('拆分过后每个邮件是否是垃圾邮件')\n",
    "print (labels_train[:10])"
   ]
  },
  {
   "cell_type": "markdown",
   "metadata": {
    "_uuid": "314c007c51f9282724dd35c83670b5d2f6b7aa3f"
   },
   "source": [
    "统计总共单词个数"
   ]
  },
  {
   "cell_type": "code",
   "execution_count": 2,
   "metadata": {
    "_uuid": "d046a131a4e5cb7a4f8659264c771473dc9c4677"
   },
   "outputs": [
    {
     "name": "stdout",
     "output_type": "stream",
     "text": [
      "Number of all the unique words : 13504\n"
     ]
    }
   ],
   "source": [
    "def GetVocabulary(data): \n",
    "    vocab_set = set([])\n",
    "    for document in data:\n",
    "        words = document.split()\n",
    "        for word in words:\n",
    "            vocab_set.add(word) \n",
    "    return list(vocab_set)\n",
    "\n",
    "vocab_list = GetVocabulary(data_train)\n",
    "print ('Number of all the unique words : ' + str(len(vocab_list)))\n"
   ]
  },
  {
   "cell_type": "markdown",
   "metadata": {
    "_uuid": "dd77dc2c93b94c5aee425256bd2883ca0337b4d0"
   },
   "source": [
    "把文章变成词向量\n"
   ]
  },
  {
   "cell_type": "code",
   "execution_count": 3,
   "metadata": {
    "_uuid": "173fd20b01b06b260c434d867590f61aaa04b10e"
   },
   "outputs": [
    {
     "name": "stdout",
     "output_type": "stream",
     "text": [
      "[0. 0. 0. ... 0. 0. 0.]\n",
      "3.0\n"
     ]
    }
   ],
   "source": [
    "def Document2Vector(vocab_list, data):\n",
    "    word_vector = np.zeros(len(vocab_list))\n",
    "    words = data.split()\n",
    "    for word in words:\n",
    "        if word in vocab_list: #如果有stop words list, 加一个and not in stopwordslist\n",
    "            word_vector[vocab_list.index(word)] += 1\n",
    "    return word_vector\n",
    "\n",
    "#print (data_train[1:2,])\n",
    "ans = Document2Vector(vocab_list,\"the the the\")\n",
    "#print (data_train.values[2])\n",
    "print(ans)\n",
    "print(sum(ans))"
   ]
  },
  {
   "cell_type": "code",
   "execution_count": 4,
   "metadata": {
    "_uuid": "f8e259bb2ef260294478c4ec7929cdd10b68d84a"
   },
   "outputs": [
    {
     "name": "stdout",
     "output_type": "stream",
     "text": [
      "4457\n"
     ]
    }
   ],
   "source": [
    "train_matrix = []\n",
    "for document in data_train.values:\n",
    "    word_vector = Document2Vector(vocab_list, document)\n",
    "    train_matrix.append(word_vector)\n",
    "\n",
    "print (len(train_matrix))"
   ]
  },
  {
   "cell_type": "markdown",
   "metadata": {
    "_uuid": "324fb36679d422109b38532c8ebd2ff1dda82561"
   },
   "source": [
    "做naive bayes 训练，得到训练集每个词概率"
   ]
  },
  {
   "cell_type": "code",
   "execution_count": 6,
   "metadata": {
    "_uuid": "05bd31d8e0945912f3a432c5db97eedf9871ee55"
   },
   "outputs": [
    {
     "name": "stdout",
     "output_type": "stream",
     "text": [
      "Train on the doc id:0\n",
      "Train on the doc id:500\n",
      "Train on the doc id:1000\n",
      "Train on the doc id:1500\n",
      "Train on the doc id:2000\n",
      "Train on the doc id:2500\n",
      "Train on the doc id:3000\n",
      "Train on the doc id:3500\n",
      "Train on the doc id:4000\n",
      "581\n",
      "3876\n"
     ]
    }
   ],
   "source": [
    "\n",
    "def NaiveBayes_train(train_matrix,labels_train):\n",
    "    num_docs = len(train_matrix)\n",
    "    num_words = len(train_matrix[0])\n",
    "    \n",
    "    spam_vector_count = np.ones(num_words);\n",
    "    ham_vector_count = np.ones(num_words)  #计算频数初始化为1\n",
    "    spam_total_count = num_words;\n",
    "    ham_total_count = num_words                  #即拉普拉斯平滑\n",
    "    \n",
    "    spam_count = 0\n",
    "    ham_count = 0\n",
    "    for i in range(num_docs):\n",
    "        if i % 500 == 0:\n",
    "            print ('Train on the doc id:' + str(i))\n",
    "            \n",
    "        if labels_train[i] == 'spam':\n",
    "            ham_vector_count += train_matrix[i]\n",
    "            ham_total_count += sum(train_matrix[i])\n",
    "            ham_count += 1\n",
    "        else:\n",
    "            spam_vector_count += train_matrix[i]\n",
    "            spam_total_count += sum(train_matrix[i])\n",
    "            spam_count += 1\n",
    "    \n",
    "    print (ham_count)\n",
    "    print (spam_count)\n",
    "    \n",
    "    p_spam_vector = np.log(ham_vector_count/ham_total_count)#注意\n",
    "    p_ham_vector = np.log(spam_vector_count/spam_total_count)#注意\n",
    "    return p_spam_vector, np.log(spam_count/num_docs), p_ham_vector, np.log(ham_count/num_docs)\n",
    "    #返回各类对应特征的条件概率向量\n",
    "    #和各类的先验概率\n",
    "    \n",
    "p_spam_vector, p_spam, p_ham_vector, p_ham = NaiveBayes_train(train_matrix, labels_train.values)"
   ]
  },
  {
   "cell_type": "code",
   "execution_count": 7,
   "metadata": {},
   "outputs": [
    {
     "data": {
      "text/plain": [
       "array([-10.2221958 , -10.2221958 ,  -9.52904862, ...,  -9.52904862,\n",
       "       -10.2221958 , -10.2221958 ])"
      ]
     },
     "execution_count": 7,
     "metadata": {},
     "output_type": "execute_result"
    }
   ],
   "source": [
    "p_spam_vector"
   ]
  },
  {
   "cell_type": "code",
   "execution_count": 8,
   "metadata": {
    "_uuid": "f6c2b7bf35939fd0e9755733bff5d7e25fd097fb"
   },
   "outputs": [
    {
     "data": {
      "text/plain": [
       "(1115,)"
      ]
     },
     "execution_count": 8,
     "metadata": {},
     "output_type": "execute_result"
    }
   ],
   "source": [
    "data_test.values.shape"
   ]
  },
  {
   "cell_type": "code",
   "execution_count": 9,
   "metadata": {
    "_cell_guid": "e4415b37-0855-49bd-8926-afe63c668268",
    "_uuid": "1d737630d3f2df2b3d28355f57cabbf594c2bf23"
   },
   "outputs": [
    {
     "name": "stdout",
     "output_type": "stream",
     "text": [
      "Test on the doc id:0\n",
      "Test on the doc id:200\n",
      "Test on the doc id:400\n",
      "Test on the doc id:600\n",
      "Test on the doc id:800\n",
      "Test on the doc id:1000\n",
      "1115\n"
     ]
    }
   ],
   "source": [
    "\n",
    "    \n",
    "def Predict(test_word_vector,p_spam_vector, p_spam, p_ham_vector, p_ham):\n",
    "    \n",
    "    spam = sum(test_word_vector * p_spam_vector) + p_spam\n",
    "    ham = sum(test_word_vector * p_ham_vector) + p_ham\n",
    "    if spam > ham:\n",
    "        return 'spam'\n",
    "    else:\n",
    "        return 'ham'\n",
    "\n",
    "predictions = []\n",
    "i = 0\n",
    "for document in data_test.values:\n",
    "    if i % 200 == 0:\n",
    "        print ('Test on the doc id:' + str(i))\n",
    "    i += 1    \n",
    "    test_word_vector = Document2Vector(vocab_list, document)\n",
    "    ans = Predict(test_word_vector, p_spam_vector, p_spam, p_ham_vector, p_ham)\n",
    "    predictions.append(ans)\n",
    "\n",
    "print (len(predictions))"
   ]
  },
  {
   "cell_type": "code",
   "execution_count": 10,
   "metadata": {
    "_uuid": "a15b89d6fee775b9393a26318bac9f1e76461762"
   },
   "outputs": [
    {
     "name": "stdout",
     "output_type": "stream",
     "text": [
      "0.9318385650224216\n",
      "             precision    recall  f1-score   support\n",
      "\n",
      "        ham       0.99      0.93      0.96       949\n",
      "       spam       0.71      0.93      0.80       166\n",
      "\n",
      "avg / total       0.94      0.93      0.94      1115\n",
      "\n",
      "[[885  64]\n",
      " [ 12 154]]\n"
     ]
    }
   ],
   "source": [
    "# 检测模型\n",
    "\n",
    "from sklearn.metrics import accuracy_score,classification_report,confusion_matrix\n",
    "from sklearn.model_selection import cross_val_score\n",
    "\n",
    "\n",
    "print (accuracy_score(labels_test, predictions))\n",
    "print (classification_report(labels_test, predictions))\n",
    "print (confusion_matrix(labels_test, predictions))\n"
   ]
  }
 ],
 "metadata": {
  "kernelspec": {
   "display_name": "Python 3",
   "language": "python",
   "name": "python3"
  },
  "language_info": {
   "codemirror_mode": {
    "name": "ipython",
    "version": 3
   },
   "file_extension": ".py",
   "mimetype": "text/x-python",
   "name": "python",
   "nbconvert_exporter": "python",
   "pygments_lexer": "ipython3",
   "version": "3.6.2"
  }
 },
 "nbformat": 4,
 "nbformat_minor": 1
}
